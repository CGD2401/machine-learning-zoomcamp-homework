{
 "cells": [
  {
   "cell_type": "markdown",
   "id": "e42caf4c-2273-4289-b3c8-ae8af84d6a63",
   "metadata": {},
   "source": [
    "<div style=\"color:white; background-color:#263b52; text-align:center; padding: 25px 0;\">\n",
    "    <div style=\"font-size:34px; font-family:calibri; font-weight:bold;\">\n",
    "        ML Zoomcamp 2025\n",
    "    </div>\n",
    "    <div style=\"font-size:22px; font-family:verdana; line-height: 1.5; margin-top:10px;\">\n",
    "        Homework 1: Introduction to ML - Environment & Pandas\n",
    "    </div>\n",
    "</div>\n",
    "\n",
    "<div style=\"margin-top:20px; overflow:auto;\">\n",
    "  <div style=\"float:left; width:50%; text-align:left; font-family:verdana; font-size:16px; color:#263b52;\">\n",
    "      <p style=\"margin:4px 0;\"><b>Author:</b> CGD</p>\n",
    "      <p style=\"margin:4px 0;\"><b>GitHub:</b> <a href=\"https://github.com/CGD2401\" target=\"_blank\">CGD2401</a></p>\n",
    "      <p style=\"margin:4px 0;\"><b>Date:</b> Septiembre 2025</p>\n",
    "  </div>\n",
    "\n",
    "  <div style=\"float:right; width:50%; text-align:right; font-family:verdana; font-size:16px; color:#263b52;\">\n",
    "      <p style=\"margin:4px 0;\">Notebook prepared for</p>\n",
    "      <p style=\"margin:4px 0;\"><b>Machine Learning Zoomcamp</b></p>\n",
    "      <p style=\"margin:4px 0;\">Homework covering Q1–Q7</p>\n",
    "  </div>\n",
    "</div>\n",
    "\n",
    "<div style=\"width:100%; clear:both;\"></div>\n",
    "\n",
    "<hr style=\"border:3px solid #7ba5b0; margin-top:25px;\"/>\n"
   ]
  },
  {
   "cell_type": "markdown",
   "id": "717a691a-2d89-4d4a-a14a-f5885d790d30",
   "metadata": {},
   "source": [
    "## 1. Importing Libraries\n",
    "In this section, we load the essential Python libraries required for the homework.  \n",
    "- **NumPy** for numerical operations  \n",
    "- **Pandas** for data manipulation and analysis  \n",
    "- **Matplotlib** and **Seaborn** for data visualization "
   ]
  },
  {
   "cell_type": "code",
   "execution_count": 4,
   "id": "14d63754-03b2-4d0c-9ec1-b40621de94ce",
   "metadata": {},
   "outputs": [
    {
     "name": "stdout",
     "output_type": "stream",
     "text": [
      "NumPy version: 1.26.4\n",
      "Pandas version: 2.2.3\n"
     ]
    }
   ],
   "source": [
    "# Core libraries\n",
    "import numpy as np              # Numerical operations\n",
    "import pandas as pd             # Data analysis and manipulation\n",
    "\n",
    "# Visualization\n",
    "import matplotlib.pyplot as plt # Basic plotting\n",
    "import seaborn as sns           # Advanced statistical plots\n",
    "\n",
    "# Display versions for reproducibility\n",
    "print(\"NumPy version:\", np.__version__)\n",
    "print(\"Pandas version:\", pd.__version__)"
   ]
  },
  {
   "cell_type": "markdown",
   "id": "962d1748-74fe-4539-b2e1-158ed7bbe0a7",
   "metadata": {},
   "source": [
    "## 2. Loading the Dataset\n",
    "\n",
    "In this section we download and load the Car Fuel Efficiency dataset into a Pandas DataFrame."
   ]
  },
  {
   "cell_type": "code",
   "execution_count": 5,
   "id": "a20ac87c-452b-4b86-bc91-a177df26cca8",
   "metadata": {},
   "outputs": [
    {
     "data": {
      "text/html": [
       "<div>\n",
       "<style scoped>\n",
       "    .dataframe tbody tr th:only-of-type {\n",
       "        vertical-align: middle;\n",
       "    }\n",
       "\n",
       "    .dataframe tbody tr th {\n",
       "        vertical-align: top;\n",
       "    }\n",
       "\n",
       "    .dataframe thead th {\n",
       "        text-align: right;\n",
       "    }\n",
       "</style>\n",
       "<table border=\"1\" class=\"dataframe\">\n",
       "  <thead>\n",
       "    <tr style=\"text-align: right;\">\n",
       "      <th></th>\n",
       "      <th>engine_displacement</th>\n",
       "      <th>num_cylinders</th>\n",
       "      <th>horsepower</th>\n",
       "      <th>vehicle_weight</th>\n",
       "      <th>acceleration</th>\n",
       "      <th>model_year</th>\n",
       "      <th>origin</th>\n",
       "      <th>fuel_type</th>\n",
       "      <th>drivetrain</th>\n",
       "      <th>num_doors</th>\n",
       "      <th>fuel_efficiency_mpg</th>\n",
       "    </tr>\n",
       "  </thead>\n",
       "  <tbody>\n",
       "    <tr>\n",
       "      <th>0</th>\n",
       "      <td>170</td>\n",
       "      <td>3.0</td>\n",
       "      <td>159.0</td>\n",
       "      <td>3413.433759</td>\n",
       "      <td>17.7</td>\n",
       "      <td>2003</td>\n",
       "      <td>Europe</td>\n",
       "      <td>Gasoline</td>\n",
       "      <td>All-wheel drive</td>\n",
       "      <td>0.0</td>\n",
       "      <td>13.231729</td>\n",
       "    </tr>\n",
       "    <tr>\n",
       "      <th>1</th>\n",
       "      <td>130</td>\n",
       "      <td>5.0</td>\n",
       "      <td>97.0</td>\n",
       "      <td>3149.664934</td>\n",
       "      <td>17.8</td>\n",
       "      <td>2007</td>\n",
       "      <td>USA</td>\n",
       "      <td>Gasoline</td>\n",
       "      <td>Front-wheel drive</td>\n",
       "      <td>0.0</td>\n",
       "      <td>13.688217</td>\n",
       "    </tr>\n",
       "    <tr>\n",
       "      <th>2</th>\n",
       "      <td>170</td>\n",
       "      <td>NaN</td>\n",
       "      <td>78.0</td>\n",
       "      <td>3079.038997</td>\n",
       "      <td>15.1</td>\n",
       "      <td>2018</td>\n",
       "      <td>Europe</td>\n",
       "      <td>Gasoline</td>\n",
       "      <td>Front-wheel drive</td>\n",
       "      <td>0.0</td>\n",
       "      <td>14.246341</td>\n",
       "    </tr>\n",
       "    <tr>\n",
       "      <th>3</th>\n",
       "      <td>220</td>\n",
       "      <td>4.0</td>\n",
       "      <td>NaN</td>\n",
       "      <td>2542.392402</td>\n",
       "      <td>20.2</td>\n",
       "      <td>2009</td>\n",
       "      <td>USA</td>\n",
       "      <td>Diesel</td>\n",
       "      <td>All-wheel drive</td>\n",
       "      <td>2.0</td>\n",
       "      <td>16.912736</td>\n",
       "    </tr>\n",
       "    <tr>\n",
       "      <th>4</th>\n",
       "      <td>210</td>\n",
       "      <td>1.0</td>\n",
       "      <td>140.0</td>\n",
       "      <td>3460.870990</td>\n",
       "      <td>14.4</td>\n",
       "      <td>2009</td>\n",
       "      <td>Europe</td>\n",
       "      <td>Gasoline</td>\n",
       "      <td>All-wheel drive</td>\n",
       "      <td>2.0</td>\n",
       "      <td>12.488369</td>\n",
       "    </tr>\n",
       "  </tbody>\n",
       "</table>\n",
       "</div>"
      ],
      "text/plain": [
       "   engine_displacement  num_cylinders  horsepower  vehicle_weight  \\\n",
       "0                  170            3.0       159.0     3413.433759   \n",
       "1                  130            5.0        97.0     3149.664934   \n",
       "2                  170            NaN        78.0     3079.038997   \n",
       "3                  220            4.0         NaN     2542.392402   \n",
       "4                  210            1.0       140.0     3460.870990   \n",
       "\n",
       "   acceleration  model_year  origin fuel_type         drivetrain  num_doors  \\\n",
       "0          17.7        2003  Europe  Gasoline    All-wheel drive        0.0   \n",
       "1          17.8        2007     USA  Gasoline  Front-wheel drive        0.0   \n",
       "2          15.1        2018  Europe  Gasoline  Front-wheel drive        0.0   \n",
       "3          20.2        2009     USA    Diesel    All-wheel drive        2.0   \n",
       "4          14.4        2009  Europe  Gasoline    All-wheel drive        2.0   \n",
       "\n",
       "   fuel_efficiency_mpg  \n",
       "0            13.231729  \n",
       "1            13.688217  \n",
       "2            14.246341  \n",
       "3            16.912736  \n",
       "4            12.488369  "
      ]
     },
     "execution_count": 5,
     "metadata": {},
     "output_type": "execute_result"
    }
   ],
   "source": [
    "url = \"https://raw.githubusercontent.com/alexeygrigorev/datasets/master/car_fuel_efficiency.csv\"\n",
    "df = pd.read_csv(url)\n",
    "df.head()"
   ]
  },
  {
   "cell_type": "markdown",
   "id": "da4a20a8-3927-4f46-90c9-4da4eac734cd",
   "metadata": {},
   "source": [
    "## 3. Exploratory Data Analysis (EDA)\n",
    "\n",
    "In this section we perform basic exploration to understand the dataset’s structure and quality."
   ]
  },
  {
   "cell_type": "code",
   "execution_count": 6,
   "id": "1d48d898-dfb0-44a3-b93d-f568b55821ba",
   "metadata": {},
   "outputs": [
    {
     "name": "stdout",
     "output_type": "stream",
     "text": [
      "<class 'pandas.core.frame.DataFrame'>\n",
      "RangeIndex: 9704 entries, 0 to 9703\n",
      "Data columns (total 11 columns):\n",
      " #   Column               Non-Null Count  Dtype  \n",
      "---  ------               --------------  -----  \n",
      " 0   engine_displacement  9704 non-null   int64  \n",
      " 1   num_cylinders        9222 non-null   float64\n",
      " 2   horsepower           8996 non-null   float64\n",
      " 3   vehicle_weight       9704 non-null   float64\n",
      " 4   acceleration         8774 non-null   float64\n",
      " 5   model_year           9704 non-null   int64  \n",
      " 6   origin               9704 non-null   object \n",
      " 7   fuel_type            9704 non-null   object \n",
      " 8   drivetrain           9704 non-null   object \n",
      " 9   num_doors            9202 non-null   float64\n",
      " 10  fuel_efficiency_mpg  9704 non-null   float64\n",
      "dtypes: float64(6), int64(2), object(3)\n",
      "memory usage: 834.1+ KB\n"
     ]
    },
    {
     "data": {
      "text/plain": [
       "engine_displacement      0\n",
       "num_cylinders          482\n",
       "horsepower             708\n",
       "vehicle_weight           0\n",
       "acceleration           930\n",
       "model_year               0\n",
       "origin                   0\n",
       "fuel_type                0\n",
       "drivetrain               0\n",
       "num_doors              502\n",
       "fuel_efficiency_mpg      0\n",
       "dtype: int64"
      ]
     },
     "execution_count": 6,
     "metadata": {},
     "output_type": "execute_result"
    }
   ],
   "source": [
    "df.info()\n",
    "df.describe()\n",
    "df.isnull().sum()"
   ]
  },
  {
   "cell_type": "markdown",
   "id": "bb3ec226-93fa-41e9-9893-9215fdfafbf1",
   "metadata": {},
   "source": [
    "## 4. Homework Questions"
   ]
  },
  {
   "cell_type": "markdown",
   "id": "66835153-69ca-4024-b253-49509deda484",
   "metadata": {},
   "source": [
    "### Q1. Pandas Version"
   ]
  },
  {
   "cell_type": "code",
   "execution_count": 7,
   "id": "622d36c6-9102-4bc6-8c17-368ad21e24ee",
   "metadata": {},
   "outputs": [
    {
     "data": {
      "text/plain": [
       "'2.2.3'"
      ]
     },
     "execution_count": 7,
     "metadata": {},
     "output_type": "execute_result"
    }
   ],
   "source": [
    "pd.__version__"
   ]
  },
  {
   "cell_type": "markdown",
   "id": "f94926ef-d51f-4522-a696-ba84e60fba3f",
   "metadata": {},
   "source": [
    "### Q2. Records Count"
   ]
  },
  {
   "cell_type": "code",
   "execution_count": 8,
   "id": "3b136df8-91fa-4e6e-803a-012f6a168bef",
   "metadata": {},
   "outputs": [
    {
     "data": {
      "text/plain": [
       "9704"
      ]
     },
     "execution_count": 8,
     "metadata": {},
     "output_type": "execute_result"
    }
   ],
   "source": [
    "len(df)"
   ]
  },
  {
   "cell_type": "markdown",
   "id": "6a027b34-07dc-456c-9933-127bceb45730",
   "metadata": {},
   "source": [
    "### Q3. Fuel Types"
   ]
  },
  {
   "cell_type": "code",
   "execution_count": 9,
   "id": "942f3503-8798-4d14-926d-a073cfba5ba5",
   "metadata": {},
   "outputs": [
    {
     "data": {
      "text/plain": [
       "2"
      ]
     },
     "execution_count": 9,
     "metadata": {},
     "output_type": "execute_result"
    }
   ],
   "source": [
    "df['fuel_type'].nunique()"
   ]
  },
  {
   "cell_type": "markdown",
   "id": "84ad9f45-9315-4135-ab09-47678373f9b1",
   "metadata": {},
   "source": [
    "### Q4. Missing Values"
   ]
  },
  {
   "cell_type": "code",
   "execution_count": 10,
   "id": "7bc865de-7499-41a7-bbce-ebcdcfa448b6",
   "metadata": {},
   "outputs": [
    {
     "data": {
      "text/plain": [
       "4"
      ]
     },
     "execution_count": 10,
     "metadata": {},
     "output_type": "execute_result"
    }
   ],
   "source": [
    "df.isnull().any().sum()"
   ]
  },
  {
   "cell_type": "markdown",
   "id": "34935f78-4d5c-4a21-9dc8-4f6ee67afa4c",
   "metadata": {},
   "source": [
    "### Q5. Maximum Fuel Efficiency (Asia)"
   ]
  },
  {
   "cell_type": "code",
   "execution_count": 11,
   "id": "61285805-6b0f-4d9e-9c27-9614daf00b9e",
   "metadata": {},
   "outputs": [
    {
     "name": "stdout",
     "output_type": "stream",
     "text": [
      "['engine_displacement', 'num_cylinders', 'horsepower', 'vehicle_weight', 'acceleration', 'model_year', 'origin', 'fuel_type', 'drivetrain', 'num_doors', 'fuel_efficiency_mpg']\n"
     ]
    }
   ],
   "source": [
    "print(df.columns.tolist())"
   ]
  },
  {
   "cell_type": "code",
   "execution_count": 12,
   "id": "f7e176c5-faba-43b4-bb3d-8b7c285f9921",
   "metadata": {},
   "outputs": [
    {
     "data": {
      "text/plain": [
       "23.759"
      ]
     },
     "execution_count": 12,
     "metadata": {},
     "output_type": "execute_result"
    }
   ],
   "source": [
    "df[df['origin'] == 'Asia']['fuel_efficiency_mpg'].max().round(3)\n"
   ]
  },
  {
   "cell_type": "markdown",
   "id": "70742e49-e845-4ee9-882a-c7e50e78384f",
   "metadata": {},
   "source": [
    "### Q6. Median value of Horsepower (before and after filling missing values)"
   ]
  },
  {
   "cell_type": "code",
   "execution_count": 13,
   "id": "40364b2b-ceef-4425-b3fc-6a72a1244b86",
   "metadata": {},
   "outputs": [
    {
     "name": "stdout",
     "output_type": "stream",
     "text": [
      "Median before filling: 149.0\n"
     ]
    }
   ],
   "source": [
    "median_before = df['horsepower'].median()\n",
    "print(\"Median before filling:\", median_before)"
   ]
  },
  {
   "cell_type": "code",
   "execution_count": 14,
   "id": "825a62c5-cb7b-4bc5-94cb-2933aa78d0a2",
   "metadata": {},
   "outputs": [
    {
     "name": "stdout",
     "output_type": "stream",
     "text": [
      "Most frequent (mode): 152.0\n"
     ]
    }
   ],
   "source": [
    "hp_mode = df['horsepower'].mode()[0]\n",
    "print(\"Most frequent (mode):\", hp_mode)"
   ]
  },
  {
   "cell_type": "code",
   "execution_count": 15,
   "id": "a5780c06-e40c-4d44-9f95-2dab5fcd2615",
   "metadata": {},
   "outputs": [],
   "source": [
    "df['horsepower'] = df['horsepower'].fillna(hp_mode)"
   ]
  },
  {
   "cell_type": "code",
   "execution_count": 16,
   "id": "058ecad4-d280-49d5-ac14-9d5111be210f",
   "metadata": {},
   "outputs": [
    {
     "name": "stdout",
     "output_type": "stream",
     "text": [
      "Median after filling: 152.0\n"
     ]
    }
   ],
   "source": [
    "median_after = df['horsepower'].median()\n",
    "print(\"Median after filling:\", median_after)"
   ]
  },
  {
   "cell_type": "code",
   "execution_count": 17,
   "id": "b261e2b8-6f7a-4d51-8572-363b4040e689",
   "metadata": {},
   "outputs": [
    {
     "name": "stdout",
     "output_type": "stream",
     "text": [
      "Yes, it increased\n"
     ]
    }
   ],
   "source": [
    "if median_after > median_before:\n",
    "    print(\"Yes, it increased\")\n",
    "elif median_after < median_before:\n",
    "    print(\"Yes, it decreased\")\n",
    "else:\n",
    "    print(\"No\")"
   ]
  },
  {
   "cell_type": "markdown",
   "id": "60787182-9457-4101-a4b2-8babd73105b8",
   "metadata": {},
   "source": [
    "### Q7. Sum of Weights - Linear Regression Warm-up"
   ]
  },
  {
   "cell_type": "code",
   "execution_count": 18,
   "id": "f1f7fc36-797c-4d24-9246-60a9545efca0",
   "metadata": {},
   "outputs": [
    {
     "data": {
      "text/plain": [
       "0.519"
      ]
     },
     "execution_count": 18,
     "metadata": {},
     "output_type": "execute_result"
    }
   ],
   "source": [
    "X = df[df['origin'] == 'Asia'][['vehicle_weight', 'model_year']].head(7).to_numpy()\n",
    "y = np.array([1100, 1300, 800, 900, 1000, 1100, 1200])\n",
    "\n",
    "XTX = X.T @ X\n",
    "XTX_inv = np.linalg.inv(XTX)\n",
    "w = XTX_inv @ X.T @ y\n",
    "w.sum().round(3)"
   ]
  },
  {
   "cell_type": "markdown",
   "id": "f8c5dc19-2421-442e-93dd-f98619a70d73",
   "metadata": {},
   "source": [
    "### 5. Conclusions\n"
   ]
  },
  {
   "cell_type": "markdown",
   "id": "d440c54b-ff0d-46a4-a4db-483a97f4935e",
   "metadata": {},
   "source": [
    "In this homework, we set up the Python environment with NumPy, Pandas, Matplotlib, and Seaborn, confirming reproducibility with NumPy 1.26.4 and Pandas 2.2.3.\n",
    "\n",
    "The Car Fuel Efficiency dataset was successfully loaded from the GitHub source, containing variables such as engine displacement, horsepower, vehicle weight, model year, origin, and fuel efficiency in miles per gallon. Through exploratory analysis, we observed that the dataset is rich and diverse but also contains missing values, particularly in columns such as `horsepower` and `num_cylinders`, which required careful handling.\n",
    "\n",
    "Answering the homework questions deepened our understanding of basic data analysis techniques. We confirmed the dataset size, the distribution of fuel types, and the presence of missing values. For cars originating from Asia, we identified the maximum fuel efficiency. When addressing missing values in the horsepower column, we replaced them with the most frequent value and observed that the **median increased** as a result.\n",
    "\n",
    "Finally, we implemented the mathematical steps of linear regression manually with NumPy, obtaining a sum of regression weights close to 0.519.\n",
    "\n",
    "Overall, this exercise highlighted the importance of reproducibility, exploratory data analysis, and proper handling of missing values. It also provided a hands-on introduction to the linear algebra foundations of machine learning, setting the stage for more advanced concepts in the upcoming lessons of the ML Zoomcamp."
   ]
  }
 ],
 "metadata": {
  "kernelspec": {
   "display_name": "Python 3.9 (ML)",
   "language": "python",
   "name": "ml"
  },
  "language_info": {
   "codemirror_mode": {
    "name": "ipython",
    "version": 3
   },
   "file_extension": ".py",
   "mimetype": "text/x-python",
   "name": "python",
   "nbconvert_exporter": "python",
   "pygments_lexer": "ipython3",
   "version": "3.9.20"
  }
 },
 "nbformat": 4,
 "nbformat_minor": 5
}
